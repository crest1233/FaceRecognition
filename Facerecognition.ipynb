{
 "cells": [
  {
   "cell_type": "markdown",
   "id": "45a862aa-c22d-4b4e-af6f-f201d53f63fc",
   "metadata": {},
   "source": [
    "## Loading all the dependencies"
   ]
  },
  {
   "cell_type": "code",
   "execution_count": 78,
   "id": "e78d26e9",
   "metadata": {
    "tags": []
   },
   "outputs": [],
   "source": [
    "import os\n",
    "import cv2\n",
    "import numpy as np\n",
    "import tensorflow as tf\n",
    "from tensorflow.keras.preprocessing.image import ImageDataGenerator\n",
    "from tensorflow.keras.utils import to_categorical\n",
    "from sklearn.model_selection import train_test_split\n",
    "from sklearn.metrics import confusion_matrix, ConfusionMatrixDisplay\n",
    "from PIL import Image\n",
    "import seaborn as sns"
   ]
  },
  {
   "cell_type": "markdown",
   "id": "e7612cdc-5d68-4bb9-bf0a-ea3cad1e34b2",
   "metadata": {},
   "source": [
    "## Only for Mac System"
   ]
  },
  {
   "cell_type": "code",
   "execution_count": 19,
   "id": "9cb37938-2363-4452-baa5-a7bb5927899d",
   "metadata": {
    "tags": []
   },
   "outputs": [
    {
     "name": "stdout",
     "output_type": "stream",
     "text": [
      "Removed: /Users/purushottamsahu/Downloads/check1/.DS_Store\n"
     ]
    }
   ],
   "source": [
    "# Replace 'your_directory_path' with the actual path to your directory\n",
    "\n",
    "True_path=\"/Users/tanishksingh/Downloads/True\"\n",
    "False_path=\"/Users/tanishksingh/Downloads/False\"\n",
    "\n",
    "\n",
    "# Walk through the directory True\n",
    "for dirpath, _, filenames in os.walk(True_path):\n",
    "    for file in filenames:\n",
    "        if file == '.DS_Store':\n",
    "            os.remove(os.path.join(dirpath, file))\n",
    "            print(f'Removed: {os.path.join(dirpath, file)}')\n",
    "            \n",
    "# Walk through the directory False\n",
    "for dirpath, _, filenames in os.walk(False_path):\n",
    "    for file in filenames:\n",
    "        if file == '.DS_Store':\n",
    "            os.remove(os.path.join(dirpath, file))\n",
    "            print(f'Removed: {os.path.join(dirpath, file)}')"
   ]
  },
  {
   "cell_type": "markdown",
   "id": "37e4158c-04cd-4b7e-a6d7-38fa063c64c6",
   "metadata": {},
   "source": [
    "## Convert the pictures into size of 250x250"
   ]
  },
  {
   "cell_type": "code",
   "execution_count": 22,
   "id": "b519824a-377d-4329-9dea-dad726f3d458",
   "metadata": {
    "tags": []
   },
   "outputs": [
    {
     "name": "stdout",
     "output_type": "stream",
     "text": [
      "Processed and resized: <PIL.JpegImagePlugin.JpegImageFile image mode=RGB size=457x510 at 0x2986060D0>\n"
     ]
    }
   ],
   "source": [
    "\n",
    "True_path=\"/Users/tanishksingh/Downloads/True\"\n",
    "False_path=\"/Users/tanishksingh/Downloads/False\"\n",
    "\n",
    "\n",
    "resize_size= (250,250)\n",
    "\n",
    "for img in os.listdir(True_path):\n",
    "    \n",
    "    # Construct the full file path\n",
    "    img_path = os.path.join(True_path, img)\n",
    "    # Open the image\n",
    "    with Image.open(img_path) as img:\n",
    "        # Resize the image\n",
    "        img_resized = img.resize(resize_size, Image.LANCZOS)\n",
    "        \n",
    "        # Save the resized image (overwrite the original file)\n",
    "        img_resized.save(img_path)\n",
    "        \n",
    "        print(f\"Processed and resized: {img}\")\n",
    "\n",
    "\n",
    "for img in os.listdir(False_path):\n",
    "    \n",
    "    # Construct the full file path\n",
    "    img_path = os.path.join(False_path, img)\n",
    "    # Open the image\n",
    "    with Image.open(img_path) as img:\n",
    "        # Resize the image\n",
    "        img_resized = img.resize(resize_size, Image.LANCZOS)\n",
    "        \n",
    "        # Save the resized image (overwrite the original file)\n",
    "        img_resized.save(img_path)\n",
    "        \n",
    "        print(f\"Processed and resized: {img}\")\n",
    "\n"
   ]
  },
  {
   "cell_type": "markdown",
   "id": "093200e0-ba48-4b76-a830-914008cdfbd0",
   "metadata": {},
   "source": [
    "## Converting images into numerical data"
   ]
  },
  {
   "cell_type": "code",
   "execution_count": 36,
   "id": "1f091e70",
   "metadata": {
    "tags": []
   },
   "outputs": [
    {
     "name": "stdout",
     "output_type": "stream",
     "text": [
      "(250, 250, 3)\n"
     ]
    }
   ],
   "source": [
    "True_path=\"/Users/tanishksingh/Downloads/True\"\n",
    "False_path=\"/Users/tanishksingh/Downloads/False\"\n",
    "images=[]\n",
    "labels=[]\n",
    "\n",
    "\n",
    "\n",
    "for image in os.listdir(True_path):\n",
    "    img_path=os.path.join(True_path,image)\n",
    "    img=cv2.imread(img_path)\n",
    "    color_img=cv2.cvtColor(img,cv2.COLOR_BGR2RGB)\n",
    "    if img is not None:\n",
    "        images.append(color_img)\n",
    "        labels.append(1)\n",
    "\n",
    "for image in os.listdir(False_path):\n",
    "    img_path=os.path.join(False_path,image)\n",
    "    img=cv2.imread(img_path)\n",
    "    color_img=cv2.cvtColor(img,cv2.COLOR_BGR2RGB)\n",
    "    if img is not None:\n",
    "        images.append(color_img)\n",
    "        labels.append(0)\n",
    "print(images[0].shape)"
   ]
  },
  {
   "cell_type": "markdown",
   "id": "67bbb0bd-7c31-44bb-8389-4e180c71aff2",
   "metadata": {},
   "source": [
    "## Visualize images"
   ]
  },
  {
   "cell_type": "code",
   "execution_count": null,
   "id": "d33441ae-b490-42e9-9b5d-454177a19524",
   "metadata": {
    "tags": []
   },
   "outputs": [],
   "source": [
    "import matplotlib.pyplot as plt\n",
    "plt.imshow(images[33])\n"
   ]
  },
  {
   "cell_type": "markdown",
   "id": "a1e3ff47-9aca-4b3f-81f6-fc57d925355e",
   "metadata": {},
   "source": [
    "## Normalize images and shuffling them for randomness"
   ]
  },
  {
   "cell_type": "code",
   "execution_count": 38,
   "id": "c76d1043",
   "metadata": {},
   "outputs": [
    {
     "name": "stdout",
     "output_type": "stream",
     "text": [
      "(323, 250, 250, 3)\n",
      "(323,)\n"
     ]
    }
   ],
   "source": [
    "from sklearn.utils import shuffle\n",
    "images = np.array(images, dtype='float32') / 255.0\n",
    "labels = np.array(labels, dtype='int32')\n",
    "images, labels = shuffle(images, labels, random_state=42)\n",
    "print(images.shape)\n",
    "print(labels.shape)\n"
   ]
  },
  {
   "cell_type": "markdown",
   "id": "3b9102e8-5395-4537-b167-859986b55501",
   "metadata": {
    "tags": []
   },
   "source": [
    "## Splitting Training and Test Data"
   ]
  },
  {
   "cell_type": "code",
   "execution_count": 39,
   "id": "7c6e712b",
   "metadata": {},
   "outputs": [],
   "source": [
    "X_train, X_test, y_train, y_test = train_test_split(images, labels, test_size=0.2, random_state=56)"
   ]
  },
  {
   "cell_type": "code",
   "execution_count": 40,
   "id": "2426f06a",
   "metadata": {
    "scrolled": true
   },
   "outputs": [
    {
     "name": "stdout",
     "output_type": "stream",
     "text": [
      "(258, 250, 250, 3)\n",
      "(65, 250, 250, 3)\n",
      "(258,)\n",
      "(65,)\n"
     ]
    }
   ],
   "source": [
    "input_shape = (250, 250, 3)  # (height, width, channels)\n",
    "num_classes = 2\n",
    "\n",
    "\n",
    "# Reshape the input data to 4D tensor\n",
    "X_train = X_train.reshape((-1, *input_shape))\n",
    "X_test = X_test.reshape((-1, *input_shape))\n",
    "\n",
    "print(X_train.shape)\n",
    "print(X_test.shape)\n",
    "print(y_train.shape)\n",
    "print(y_test.shape)"
   ]
  },
  {
   "cell_type": "markdown",
   "id": "ff54a9d4-d22d-4cf7-9314-191fcac71090",
   "metadata": {},
   "source": [
    "## Defining the Model"
   ]
  },
  {
   "cell_type": "code",
   "execution_count": 41,
   "id": "d29a3887",
   "metadata": {},
   "outputs": [
    {
     "name": "stdout",
     "output_type": "stream",
     "text": [
      "(250, 250, 3)\n",
      "Model: \"sequential_3\"\n",
      "_________________________________________________________________\n",
      " Layer (type)                Output Shape              Param #   \n",
      "=================================================================\n",
      " conv2d_9 (Conv2D)           (None, 248, 248, 32)      896       \n",
      "                                                                 \n",
      " max_pooling2d_9 (MaxPoolin  (None, 124, 124, 32)      0         \n",
      " g2D)                                                            \n",
      "                                                                 \n",
      " conv2d_10 (Conv2D)          (None, 122, 122, 64)      18496     \n",
      "                                                                 \n",
      " max_pooling2d_10 (MaxPooli  (None, 61, 61, 64)        0         \n",
      " ng2D)                                                           \n",
      "                                                                 \n",
      " conv2d_11 (Conv2D)          (None, 59, 59, 128)       73856     \n",
      "                                                                 \n",
      " max_pooling2d_11 (MaxPooli  (None, 29, 29, 128)       0         \n",
      " ng2D)                                                           \n",
      "                                                                 \n",
      " flatten_3 (Flatten)         (None, 107648)            0         \n",
      "                                                                 \n",
      " dense_9 (Dense)             (None, 512)               55116288  \n",
      "                                                                 \n",
      " dense_10 (Dense)            (None, 128)               65664     \n",
      "                                                                 \n",
      " dropout_3 (Dropout)         (None, 128)               0         \n",
      "                                                                 \n",
      " dense_11 (Dense)            (None, 2)                 258       \n",
      "                                                                 \n",
      "=================================================================\n",
      "Total params: 55275458 (210.86 MB)\n",
      "Trainable params: 55275458 (210.86 MB)\n",
      "Non-trainable params: 0 (0.00 Byte)\n",
      "_________________________________________________________________\n"
     ]
    }
   ],
   "source": [
    "\n",
    "\n",
    "# Define your model architecture (similar to previous examples)\n",
    "def create_model(input_shape, num_classes):\n",
    "    model = tf.keras.Sequential([\n",
    "        tf.keras.layers.Conv2D(32, (3, 3), activation='relu', input_shape=input_shape),\n",
    "        tf.keras.layers.MaxPooling2D((2, 2)),\n",
    "        tf.keras.layers.Conv2D(64, (3, 3), activation='relu'),\n",
    "        tf.keras.layers.MaxPooling2D((2, 2)),\n",
    "        tf.keras.layers.Conv2D(128, (3, 3), activation='relu'),\n",
    "        tf.keras.layers.MaxPooling2D((2, 2)),\n",
    "        tf.keras.layers.Flatten(),\n",
    "        tf.keras.layers.Dense(512, activation='relu'),\n",
    "        tf.keras.layers.Dense(128, activation='relu'),\n",
    "        tf.keras.layers.Dropout(0.5),\n",
    "        tf.keras.layers.Dense(num_classes, activation='softmax')\n",
    "    ])\n",
    "    return model\n",
    "\n",
    "# Create the model\n",
    "input_shape = X_train.shape[1:]  # Assuming X_train shape is (num_samples, height, width, channels)\n",
    "print(input_shape)\n",
    "num_classes = 2  # Number of classes\n",
    "model = create_model(input_shape, num_classes)\n",
    "\n",
    "# Compile the model\n",
    "model.compile(optimizer='adam', loss='sparse_categorical_crossentropy', metrics=['accuracy'])\n",
    "\n",
    "# Print the model summary\n",
    "model.summary()\n"
   ]
  },
  {
   "cell_type": "markdown",
   "id": "bdef7c32-8312-4525-ad46-2e7b8d49764a",
   "metadata": {},
   "source": [
    "## Training the model"
   ]
  },
  {
   "cell_type": "code",
   "execution_count": 42,
   "id": "d9a3f1ce-c5a2-4d49-9dae-5bbde540d70e",
   "metadata": {
    "tags": []
   },
   "outputs": [
    {
     "name": "stdout",
     "output_type": "stream",
     "text": [
      "Epoch 1/5\n",
      "9/9 [==============================] - 13s 1s/step - loss: 2.1413 - accuracy: 0.5465 - val_loss: 0.9454 - val_accuracy: 0.5231\n",
      "Epoch 2/5\n",
      "9/9 [==============================] - 13s 1s/step - loss: 0.6962 - accuracy: 0.6240 - val_loss: 0.5902 - val_accuracy: 0.7692\n",
      "Epoch 3/5\n",
      "9/9 [==============================] - 12s 1s/step - loss: 0.4986 - accuracy: 0.7791 - val_loss: 0.4111 - val_accuracy: 0.8615\n",
      "Epoch 4/5\n",
      "9/9 [==============================] - 13s 1s/step - loss: 0.3221 - accuracy: 0.8566 - val_loss: 0.2278 - val_accuracy: 0.9077\n",
      "Epoch 5/5\n",
      "9/9 [==============================] - 13s 1s/step - loss: 0.2125 - accuracy: 0.9341 - val_loss: 0.1177 - val_accuracy: 0.9692\n"
     ]
    }
   ],
   "source": [
    "\n",
    "# Train the model\n",
    "batch_size = 32\n",
    "epochs = 5\n",
    "\n",
    "history = model.fit(\n",
    "    X_train, y_train,\n",
    "    batch_size=batch_size,\n",
    "    epochs=epochs,\n",
    "    validation_data=(X_test, y_test)\n",
    ")"
   ]
  },
  {
   "cell_type": "markdown",
   "id": "1b5ea70d-34ef-4600-bbdf-eb28c4bf8e80",
   "metadata": {},
   "source": [
    "## Visualize the loss and accuracy table with epochs"
   ]
  },
  {
   "cell_type": "code",
   "execution_count": 43,
   "id": "7270c702",
   "metadata": {},
   "outputs": [
    {
     "name": "stdout",
     "output_type": "stream",
     "text": [
      "dict_keys(['loss', 'accuracy', 'val_loss', 'val_accuracy'])\n"
     ]
    }
   ],
   "source": [
    "print(history.history.keys())  # To see what metrics are available\n"
   ]
  },
  {
   "cell_type": "code",
   "execution_count": 44,
   "id": "32385b55",
   "metadata": {},
   "outputs": [
    {
     "data": {
      "image/png": "[encoded data removed]",
      "text/plain": [
       "<Figure size 1000x600 with 1 Axes>"
      ]
     },
     "metadata": {},
     "output_type": "display_data"
    }
   ],
   "source": [
    "import matplotlib.pyplot as plt\n",
    "\n",
    "# Plot training & validation loss values\n",
    "plt.figure(figsize=(10, 6))\n",
    "plt.plot(history.history['loss'], label='Training Loss')\n",
    "plt.plot(history.history['val_loss'], label='Validation Loss')\n",
    "plt.title('Model Loss')\n",
    "plt.xlabel('Epoch')\n",
    "plt.ylabel('Loss')\n",
    "plt.legend(loc='upper right')\n",
    "plt.show()\n",
    "\n"
   ]
  },
  {
   "cell_type": "code",
   "execution_count": 45,
   "id": "4c0f5bcd-8167-4141-81e0-3c1d9c578116",
   "metadata": {
    "tags": []
   },
   "outputs": [
    {
     "data": {
      "image/png": "[encoded data removed]",
      "text/plain": [
       "<Figure size 1000x600 with 1 Axes>"
      ]
     },
     "metadata": {},
     "output_type": "display_data"
    }
   ],
   "source": [
    "\n",
    "# Plot training & validation accuracy values\n",
    "plt.figure(figsize=(10, 6))\n",
    "plt.plot(history.history['accuracy'], label='Training Accuracy')\n",
    "plt.plot(history.history['val_accuracy'], label='Validation Accuracy')\n",
    "plt.title('Model Accuracy')\n",
    "plt.xlabel('Epoch')\n",
    "plt.ylabel('Accuracy')\n",
    "plt.legend(loc='lower right')\n",
    "plt.show()\n"
   ]
  },
  {
   "cell_type": "markdown",
   "id": "9e10b73f-52a0-4dde-8224-a4bda2b66156",
   "metadata": {},
   "source": [
    "## Evaluate the Model"
   ]
  },
  {
   "cell_type": "code",
   "execution_count": 61,
   "id": "50c8c782",
   "metadata": {},
   "outputs": [
    {
     "name": "stdout",
     "output_type": "stream",
     "text": [
      "3/3 [==============================] - 1s 248ms/step - loss: 0.1177 - accuracy: 0.9692\n",
      "Test loss: 0.1177\n",
      "Accuracy 96.92%\n"
     ]
    }
   ],
   "source": [
    "loss, accuracy = model.evaluate(X_test, y_test)\n",
    "\n",
    "print(f'Test loss: {loss:.4f}')\n",
    "print(\"Accuracy\",str(accuracy*100)[:5]+\"%\")"
   ]
  },
  {
   "cell_type": "code",
   "execution_count": null,
   "id": "1a3730d8",
   "metadata": {},
   "outputs": [],
   "source": [
    "# Predict labels for the test data\n",
    "y_pred = model.predict(X_test)\n",
    "\n",
    "# Predicted class labels\n",
    "y_pred = np.argmax(y_pred, axis=1)  "
   ]
  },
  {
   "cell_type": "markdown",
   "id": "3138c77b-c29e-4374-80da-b231a3882313",
   "metadata": {
    "tags": []
   },
   "source": [
    "## Confusion Matrix"
   ]
  },
  {
   "cell_type": "code",
   "execution_count": 79,
   "id": "d65f1e67-6211-48d5-98c7-b624b1855f22",
   "metadata": {
    "tags": []
   },
   "outputs": [
    {
     "name": "stdout",
     "output_type": "stream",
     "text": [
      "Confusion Matrix:\n",
      "[[31  0]\n",
      " [ 2 32]]\n"
     ]
    },
    {
     "data": {
      "image/png": "[encoded data removed]",
      "text/plain": [
       "<Figure size 500x400 with 2 Axes>"
      ]
     },
     "metadata": {},
     "output_type": "display_data"
    }
   ],
   "source": [
    "# Calculate the confusion matrix\n",
    "cm = confusion_matrix(y_test, y_pred)\n",
    "\n",
    "# Print the confusion matrix\n",
    "print(\"Confusion Matrix:\")\n",
    "\n",
    "# Plot the confusion matrix using Seaborn\n",
    "plt.figure(figsize=(5, 4))\n",
    "sns.heatmap(cm, annot=True, cmap=\"Blues\", fmt=\"d\")\n",
    "plt.title(\"Confusion Matrix\")\n",
    "plt.xlabel(\"Predicted Labels\")\n",
    "plt.ylabel(\"True Labels\")\n",
    "plt.show()"
   ]
  },
  {
   "cell_type": "markdown",
   "id": "c8f65159-3006-4577-a9b7-e1d6c00618bb",
   "metadata": {},
   "source": [
    "## Exploring More Models"
   ]
  },
  {
   "cell_type": "markdown",
   "id": "985bfa7d-ce62-4d52-8274-87a67ebf88b4",
   "metadata": {
    "tags": []
   },
   "source": [
    "### 2. Logistic Regression"
   ]
  },
  {
   "cell_type": "code",
   "execution_count": 86,
   "id": "25b5dcbb-5ae2-4038-83bb-f729fcbacc3d",
   "metadata": {
    "tags": []
   },
   "outputs": [
    {
     "name": "stdout",
     "output_type": "stream",
     "text": [
      "(323, 250, 250, 3)\n"
     ]
    }
   ],
   "source": [
    "print(images.shape)"
   ]
  },
  {
   "cell_type": "markdown",
   "id": "72e510ef-9d4a-47e2-b7e8-4034ac5599fb",
   "metadata": {},
   "source": [
    "#### Defining Model and training"
   ]
  },
  {
   "cell_type": "code",
   "execution_count": 90,
   "id": "33b8f64d-fe28-4cdb-92cb-79e4478cf92a",
   "metadata": {
    "tags": []
   },
   "outputs": [
    {
     "name": "stdout",
     "output_type": "stream",
     "text": [
      "Accuracy: 0.94\n",
      "Confusion Matrix:\n",
      "[[36  2]\n",
      " [ 2 25]]\n",
      "Classification Report:\n",
      "              precision    recall  f1-score   support\n",
      "\n",
      "           0       0.95      0.95      0.95        38\n",
      "           1       0.93      0.93      0.93        27\n",
      "\n",
      "    accuracy                           0.94        65\n",
      "   macro avg       0.94      0.94      0.94        65\n",
      "weighted avg       0.94      0.94      0.94        65\n",
      "\n"
     ]
    }
   ],
   "source": [
    "from sklearn.datasets import make_classification\n",
    "from sklearn.model_selection import train_test_split\n",
    "from sklearn.linear_model import LogisticRegression\n",
    "from sklearn.metrics import accuracy_score, confusion_matrix, classification_report\n",
    "\n",
    "\n",
    "images = images.reshape(images.shape[0], -1)\n",
    "\n",
    "\n",
    "# Split data into training and test sets\n",
    "X_train, X_test, y_train, y_test = train_test_split(images, labels, test_size=0.2, random_state=42)\n",
    "\n",
    "# Initialize logistic regression model\n",
    "model = LogisticRegression()\n",
    "\n",
    "# Fit the model on the training data\n",
    "model.fit(X_train, y_train)\n",
    "\n",
    "# Predict on the test data\n",
    "y_pred = model.predict(X_test)\n",
    "\n"
   ]
  },
  {
   "cell_type": "markdown",
   "id": "39200343-eb1a-4118-8ad6-d727c249246e",
   "metadata": {
    "tags": []
   },
   "source": [
    "#### Calculating its Accuracy"
   ]
  },
  {
   "cell_type": "code",
   "execution_count": 92,
   "id": "5301142a-0cc2-4363-b301-7fcb9ea43def",
   "metadata": {
    "tags": []
   },
   "outputs": [
    {
     "name": "stdout",
     "output_type": "stream",
     "text": [
      "Accuracy: 0.94\n"
     ]
    }
   ],
   "source": [
    "\n",
    "# Calculate accuracy\n",
    "accuracy = accuracy_score(y_test, y_pred)\n",
    "print(f\"Accuracy: {accuracy:.2f}\")\n"
   ]
  },
  {
   "cell_type": "markdown",
   "id": "93ce4859-0f74-49d8-ae12-0114dc5e4a33",
   "metadata": {},
   "source": [
    "#### Confusion Matrix"
   ]
  },
  {
   "cell_type": "code",
   "execution_count": 95,
   "id": "5a23c36b-3956-4bcb-9176-95578b3f80f7",
   "metadata": {
    "tags": []
   },
   "outputs": [
    {
     "data": {
      "image/png": "[encoded data removed]",
      "text/plain": [
       "<Figure size 500x400 with 2 Axes>"
      ]
     },
     "metadata": {},
     "output_type": "display_data"
    }
   ],
   "source": [
    "# Generate confusion matrix\n",
    "cm = confusion_matrix(y_test, y_pred)\n",
    "# Plot the confusion matrix using Seaborn\n",
    "plt.figure(figsize=(5, 4))\n",
    "sns.heatmap(cm, annot=True, cmap=\"Blues\", fmt=\"d\")\n",
    "plt.title(\"Confusion Matrix\")\n",
    "plt.xlabel(\"Predicted Labels\")\n",
    "plt.ylabel(\"True Labels\")\n",
    "plt.show()"
   ]
  },
  {
   "cell_type": "markdown",
   "id": "66527935-5d2a-4024-929a-a3eab3d3c840",
   "metadata": {
    "tags": []
   },
   "source": [
    "#### Classification report"
   ]
  },
  {
   "cell_type": "code",
   "execution_count": 97,
   "id": "6d910765-1a36-4569-8bfb-68605aacbef3",
   "metadata": {
    "tags": []
   },
   "outputs": [
    {
     "name": "stdout",
     "output_type": "stream",
     "text": [
      "Classification Report:\n",
      "              precision    recall  f1-score   support\n",
      "\n",
      "           0       0.95      0.95      0.95        38\n",
      "           1       0.93      0.93      0.93        27\n",
      "\n",
      "    accuracy                           0.94        65\n",
      "   macro avg       0.94      0.94      0.94        65\n",
      "weighted avg       0.94      0.94      0.94        65\n",
      "\n"
     ]
    }
   ],
   "source": [
    "# Generate classification report\n",
    "report = classification_report(y_test, y_pred)\n",
    "print(\"Classification Report:\")\n",
    "print(report)\n"
   ]
  },
  {
   "cell_type": "markdown",
   "id": "4ec1a0f7-b04f-488a-8885-289413a383f1",
   "metadata": {},
   "source": [
    "### 3. SVM"
   ]
  },
  {
   "cell_type": "code",
   "execution_count": 104,
   "id": "30fac440-4bbd-4217-b00e-921a36f82d9f",
   "metadata": {
    "tags": []
   },
   "outputs": [],
   "source": [
    "from sklearn.svm import SVC\n",
    "\n",
    "# Initialize SVM classifier\n",
    "svm_model = SVC(kernel='linear', random_state=42)\n",
    "\n",
    "# Fit the model on the training data\n",
    "svm_model.fit(X_train, y_train)\n",
    "\n",
    "# Predict on the test data\n",
    "y_pred = svm_model.predict(X_test)\n"
   ]
  },
  {
   "cell_type": "markdown",
   "id": "0fa579fb-703c-45b9-a5dc-9b87048f62bd",
   "metadata": {},
   "source": [
    "#### Accuracy"
   ]
  },
  {
   "cell_type": "code",
   "execution_count": 105,
   "id": "3e263411-c067-466f-b93c-a09ed4c5b617",
   "metadata": {
    "tags": []
   },
   "outputs": [
    {
     "name": "stdout",
     "output_type": "stream",
     "text": [
      "Accuracy: 0.95\n"
     ]
    }
   ],
   "source": [
    "\n",
    "# Calculate accuracy\n",
    "accuracy = accuracy_score(y_test, y_pred)\n",
    "print(f\"Accuracy: {accuracy:.2f}\")\n"
   ]
  },
  {
   "cell_type": "markdown",
   "id": "a0478b6a-faa3-4520-8c1a-c86e66bf6c31",
   "metadata": {},
   "source": [
    "#### Confusion matrix and classification report"
   ]
  },
  {
   "cell_type": "code",
   "execution_count": 107,
   "id": "3605045e-6639-4e32-ac8f-324827e08f76",
   "metadata": {
    "tags": []
   },
   "outputs": [
    {
     "name": "stdout",
     "output_type": "stream",
     "text": [
      "Confusion Matrix:\n"
     ]
    },
    {
     "data": {
      "image/png": "[encoded data removed]",
      "text/plain": [
       "<Figure size 500x400 with 2 Axes>"
      ]
     },
     "metadata": {},
     "output_type": "display_data"
    },
    {
     "name": "stdout",
     "output_type": "stream",
     "text": [
      "Classification Report:\n",
      "              precision    recall  f1-score   support\n",
      "\n",
      "           0       0.97      0.95      0.96        38\n",
      "           1       0.93      0.96      0.95        27\n",
      "\n",
      "    accuracy                           0.95        65\n",
      "   macro avg       0.95      0.96      0.95        65\n",
      "weighted avg       0.95      0.95      0.95        65\n",
      "\n"
     ]
    }
   ],
   "source": [
    "# Generate confusion matrix\n",
    "cm = confusion_matrix(y_test, y_pred)\n",
    "print(\"Confusion Matrix:\")\n",
    "# Plot the confusion matrix using Seaborn\n",
    "plt.figure(figsize=(5, 4))\n",
    "sns.heatmap(cm, annot=True, cmap=\"Blues\", fmt=\"d\")\n",
    "plt.title(\"Confusion Matrix\")\n",
    "plt.xlabel(\"Predicted Labels\")\n",
    "plt.ylabel(\"True Labels\")\n",
    "plt.show()\n",
    "\n",
    "# Generate classification report\n",
    "report = classification_report(y_test, y_pred)\n",
    "print(\"Classification Report:\")\n",
    "print(report)"
   ]
  },
  {
   "cell_type": "markdown",
   "id": "6f0dea40-8fb3-406a-8911-6bc803eb17ad",
   "metadata": {
    "tags": []
   },
   "source": [
    "### 4. Decision Tree"
   ]
  },
  {
   "cell_type": "code",
   "execution_count": 111,
   "id": "82792127-c0dc-44db-8c33-4407a15585a9",
   "metadata": {
    "tags": []
   },
   "outputs": [],
   "source": [
    "from sklearn.tree import DecisionTreeClassifier\n",
    "# Create a decision tree classifier\n",
    "clf = DecisionTreeClassifier(random_state=42)\n",
    "\n",
    "# Train the classifier on the training data\n",
    "clf.fit(X_train, y_train)\n",
    "\n",
    "# Predict on the test data\n",
    "y_pred = clf.predict(X_test)\n",
    "\n"
   ]
  },
  {
   "cell_type": "markdown",
   "id": "bc7a8e81-566a-4dc2-9ace-c1590978dd70",
   "metadata": {},
   "source": [
    "#### Accuracy"
   ]
  },
  {
   "cell_type": "code",
   "execution_count": 110,
   "id": "0513ae93-7a8e-4c2c-8cf4-3655795203ca",
   "metadata": {
    "tags": []
   },
   "outputs": [
    {
     "name": "stdout",
     "output_type": "stream",
     "text": [
      "Accuracy: 0.8461538461538461\n"
     ]
    }
   ],
   "source": [
    "# Calculate the accuracy of the classifier\n",
    "accuracy = accuracy_score(y_test, y_pred)\n",
    "print(f\"Accuracy: {accuracy}\")"
   ]
  },
  {
   "cell_type": "markdown",
   "id": "e573aafc-1eca-4228-baee-857b2711a7cf",
   "metadata": {
    "tags": []
   },
   "source": [
    "### 5. KNN"
   ]
  },
  {
   "cell_type": "code",
   "execution_count": 115,
   "id": "fa9c9efe-cd3a-45d5-ab24-8ebba09ad22f",
   "metadata": {
    "tags": []
   },
   "outputs": [],
   "source": [
    "from sklearn.neighbors import KNeighborsClassifier\n",
    "# Initialize KNN classifier\n",
    "knn_model = KNeighborsClassifier(n_neighbors=5)\n",
    "\n",
    "# Fit the model on the training data\n",
    "knn_model.fit(X_train, y_train)\n",
    "\n",
    "# Predict on the test data\n",
    "y_pred = knn_model.predict(X_test)\n"
   ]
  },
  {
   "cell_type": "markdown",
   "id": "6298a0c2-ff6e-4689-b4e0-9c80688f8fa7",
   "metadata": {},
   "source": [
    "#### Accuracy"
   ]
  },
  {
   "cell_type": "code",
   "execution_count": 117,
   "id": "8e7b525d-a5be-448f-a950-e7be828618e6",
   "metadata": {
    "tags": []
   },
   "outputs": [
    {
     "name": "stdout",
     "output_type": "stream",
     "text": [
      "Accuracy: 0.77\n"
     ]
    }
   ],
   "source": [
    "# Calculate accuracy\n",
    "accuracy = accuracy_score(y_test, y_pred)\n",
    "print(f\"Accuracy: {accuracy:.2f}\")"
   ]
  },
  {
   "cell_type": "markdown",
   "id": "c8e23b5b-9506-4aba-9f41-8efb36735e60",
   "metadata": {
    "tags": []
   },
   "source": [
    "## Conclusion"
   ]
  },
  {
   "cell_type": "raw",
   "id": "9087d067-140e-49d0-9334-2f1890e0a7a6",
   "metadata": {
    "tags": []
   },
   "source": [
    "### CNN led with 96% accuracy, highlighting its prowess in intricate pattern recognition, ideal for image tasks. Logistic Regression and SVM closely followed at 94% and 95% respectively, proving effective in different scenarios. Decision Tree achieved 84% accuracy, showcasing its ability in capturing non-linear relationships. KNN trailed with 77%, indicating challenges in handling dataset complexities."
   ]
  },
  {
   "cell_type": "code",
   "execution_count": null,
   "id": "0bf1e9d7-3dc9-486c-9bf2-c35f718ed159",
   "metadata": {},
   "outputs": [],
   "source": []
  }
 ],
 "metadata": {
  "kernelspec": {
   "display_name": "tensorflow",
   "language": "python",
   "name": "tensorflow"
  },
  "language_info": {
   "codemirror_mode": {
    "name": "ipython",
    "version": 3
   },
   "file_extension": ".py",
   "mimetype": "text/x-python",
   "name": "python",
   "nbconvert_exporter": "python",
   "pygments_lexer": "ipython3",
   "version": "3.11.6"
  },
  "toc-showcode": true
 },
 "nbformat": 4,
 "nbformat_minor": 5
}
